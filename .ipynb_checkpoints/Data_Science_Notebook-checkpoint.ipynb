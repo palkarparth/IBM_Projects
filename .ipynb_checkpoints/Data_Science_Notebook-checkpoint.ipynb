{
 "cells": [
  {
   "cell_type": "markdown",
   "id": "3b0832a0",
   "metadata": {},
   "source": [
    "# My Data Science Notebook"
   ]
  },
  {
   "cell_type": "markdown",
   "id": "a0e285b4",
   "metadata": {},
   "source": [
    "## Introduction\n",
    "This notebook demonstrates basic concepts of Data Science including languages, libraries, tools, and arithmetic operations."
   ]
  },
  {
   "cell_type": "markdown",
   "id": "bd4fc67d",
   "metadata": {},
   "source": [
    "## Data Science Languages\n",
    "- Python  \n",
    "- R  \n",
    "- SQL  \n",
    "- Julia  \n",
    "- Scala"
   ]
  },
  {
   "cell_type": "markdown",
   "id": "01e8a995",
   "metadata": {},
   "source": [
    "## Data Science Libraries\n",
    "- NumPy  \n",
    "- Pandas  \n",
    "- Matplotlib  \n",
    "- Seaborn  \n",
    "- ggplot2  \n",
    "- scikit-learn"
   ]
  },
  {
   "cell_type": "markdown",
   "id": "5c3f7685",
   "metadata": {},
   "source": [
    "## Data Science Tools\n",
    "\n",
    "| Tool        | Purpose                      |\n",
    "|------------|-------------------------------|\n",
    "| Jupyter    | Notebook development          |\n",
    "| RStudio    | R language development        |\n",
    "| GitHub     | Version control & sharing     |\n",
    "| Tableau    | Data visualization            |\n",
    "| VS Code    | Code editing                  |"
   ]
  },
  {
   "cell_type": "markdown",
   "id": "efaf4282",
   "metadata": {},
   "source": [
    "## Arithmetic Expression Examples\n",
    "This section shows basic arithmetic operations like addition, subtraction, multiplication, and division."
   ]
  },
  {
   "cell_type": "code",
   "execution_count": null,
   "id": "5ff476f8",
   "metadata": {},
   "outputs": [],
   "source": [
    "# Multiplying and adding numbers\n",
    "a = 5\n",
    "b = 10\n",
    "c = 2\n",
    "\n",
    "result = a * b + c\n",
    "result"
   ]
  },
  {
   "cell_type": "code",
   "execution_count": null,
   "id": "e7ee391d",
   "metadata": {},
   "outputs": [],
   "source": [
    "# Convert minutes to hours\n",
    "minutes = 150\n",
    "hours = minutes / 60\n",
    "hours"
   ]
  },
  {
   "cell_type": "markdown",
   "id": "4e61ce10",
   "metadata": {},
   "source": [
    "## Objectives\n",
    "- Learn basics of Data Science  \n",
    "- Understand important languages and libraries  \n",
    "- Practice arithmetic operations in Python  \n",
    "- Create tables and formatted Markdown in notebooks  \n",
    "- Share notebook via GitHub"
   ]
  },
  {
   "cell_type": "markdown",
   "id": "9d2c5b2d",
   "metadata": {},
   "source": [
    "## Author\n",
    "Parth Palkar"
   ]
  }
 ],
 "metadata": {},
 "nbformat": 4,
 "nbformat_minor": 5
}
